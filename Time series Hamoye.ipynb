{
 "cells": [
  {
   "cell_type": "code",
   "execution_count": 1,
   "id": "dec063bc-74d7-4820-aea9-b05feaf3f69b",
   "metadata": {},
   "outputs": [],
   "source": [
    "import pandas as pd\n",
    "import numpy as np\n",
    "import matplotlib.pyplot as plt\n",
    "# !pip install prophet\n",
    "import statsmodels.api as sm\n",
    "from statsmodels.tsa.stattools import adfuller\n",
    "from prophet import Prophet"
   ]
  },
  {
   "cell_type": "code",
   "execution_count": 32,
   "id": "1452d631-db46-48c1-9bb4-48fbce033fe7",
   "metadata": {},
   "outputs": [
    {
     "data": {
      "text/html": [
       "<div>\n",
       "<style scoped>\n",
       "    .dataframe tbody tr th:only-of-type {\n",
       "        vertical-align: middle;\n",
       "    }\n",
       "\n",
       "    .dataframe tbody tr th {\n",
       "        vertical-align: top;\n",
       "    }\n",
       "\n",
       "    .dataframe thead th {\n",
       "        text-align: right;\n",
       "    }\n",
       "</style>\n",
       "<table border=\"1\" class=\"dataframe\">\n",
       "  <thead>\n",
       "    <tr style=\"text-align: right;\">\n",
       "      <th></th>\n",
       "      <th>FullDate</th>\n",
       "      <th>Tmax</th>\n",
       "      <th>SysLoad</th>\n",
       "      <th>GasPrice</th>\n",
       "      <th>ElecPrice</th>\n",
       "    </tr>\n",
       "  </thead>\n",
       "  <tbody>\n",
       "    <tr>\n",
       "      <th>0</th>\n",
       "      <td>2010-09-01 00:00:00</td>\n",
       "      <td>15.8</td>\n",
       "      <td>1688.215</td>\n",
       "      <td>3.69</td>\n",
       "      <td>23.710</td>\n",
       "    </tr>\n",
       "    <tr>\n",
       "      <th>1</th>\n",
       "      <td>2010-09-01 01:00:00</td>\n",
       "      <td>15.8</td>\n",
       "      <td>1669.195</td>\n",
       "      <td>3.69</td>\n",
       "      <td>22.635</td>\n",
       "    </tr>\n",
       "    <tr>\n",
       "      <th>2</th>\n",
       "      <td>2010-09-01 02:00:00</td>\n",
       "      <td>15.8</td>\n",
       "      <td>1491.980</td>\n",
       "      <td>3.69</td>\n",
       "      <td>22.565</td>\n",
       "    </tr>\n",
       "    <tr>\n",
       "      <th>3</th>\n",
       "      <td>2010-09-01 03:00:00</td>\n",
       "      <td>15.8</td>\n",
       "      <td>1330.760</td>\n",
       "      <td>3.69</td>\n",
       "      <td>18.910</td>\n",
       "    </tr>\n",
       "    <tr>\n",
       "      <th>4</th>\n",
       "      <td>2010-09-01 04:00:00</td>\n",
       "      <td>15.8</td>\n",
       "      <td>1247.940</td>\n",
       "      <td>3.69</td>\n",
       "      <td>18.030</td>\n",
       "    </tr>\n",
       "  </tbody>\n",
       "</table>\n",
       "</div>"
      ],
      "text/plain": [
       "              FullDate  Tmax   SysLoad  GasPrice  ElecPrice\n",
       "0  2010-09-01 00:00:00  15.8  1688.215      3.69     23.710\n",
       "1  2010-09-01 01:00:00  15.8  1669.195      3.69     22.635\n",
       "2  2010-09-01 02:00:00  15.8  1491.980      3.69     22.565\n",
       "3  2010-09-01 03:00:00  15.8  1330.760      3.69     18.910\n",
       "4  2010-09-01 04:00:00  15.8  1247.940      3.69     18.030"
      ]
     },
     "execution_count": 32,
     "metadata": {},
     "output_type": "execute_result"
    }
   ],
   "source": [
    "df = pd.read_csv(\"Time_series_analysis_and_forecast_DATASET.csv\")\n",
    "df.head()"
   ]
  },
  {
   "cell_type": "code",
   "execution_count": 3,
   "id": "7ab3eefd-e9eb-4d88-9d6c-d4a2b8c620b1",
   "metadata": {},
   "outputs": [
    {
     "name": "stdout",
     "output_type": "stream",
     "text": [
      "<class 'pandas.core.frame.DataFrame'>\n",
      "RangeIndex: 92016 entries, 0 to 92015\n",
      "Data columns (total 5 columns):\n",
      " #   Column     Non-Null Count  Dtype  \n",
      "---  ------     --------------  -----  \n",
      " 0   FullDate   92016 non-null  object \n",
      " 1   Tmax       92016 non-null  float64\n",
      " 2   SysLoad    92016 non-null  float64\n",
      " 3   GasPrice   92016 non-null  float64\n",
      " 4   ElecPrice  92016 non-null  float64\n",
      "dtypes: float64(4), object(1)\n",
      "memory usage: 3.5+ MB\n"
     ]
    }
   ],
   "source": [
    "df.info()"
   ]
  },
  {
   "cell_type": "code",
   "execution_count": 33,
   "id": "8a7e7503-9539-4349-b020-228cadfcd35f",
   "metadata": {},
   "outputs": [
    {
     "name": "stdout",
     "output_type": "stream",
     "text": [
      "<class 'pandas.core.frame.DataFrame'>\n",
      "DatetimeIndex: 92016 entries, 2010-09-01 00:00:00 to 2021-02-28 23:00:00\n",
      "Data columns (total 5 columns):\n",
      " #   Column     Non-Null Count  Dtype         \n",
      "---  ------     --------------  -----         \n",
      " 0   FullDate   92016 non-null  datetime64[ns]\n",
      " 1   Tmax       92016 non-null  float64       \n",
      " 2   SysLoad    92016 non-null  float64       \n",
      " 3   GasPrice   92016 non-null  float64       \n",
      " 4   ElecPrice  92016 non-null  float64       \n",
      "dtypes: datetime64[ns](1), float64(4)\n",
      "memory usage: 4.2 MB\n"
     ]
    }
   ],
   "source": [
    "df[\"FullDate\"] = pd.to_datetime(df[\"FullDate\"])\n",
    "df = df.set_index(df[\"FullDate\"])\n",
    "df.info()"
   ]
  },
  {
   "cell_type": "code",
   "execution_count": 34,
   "id": "4b0dfe67-c718-4836-afa4-a12c5a074d9e",
   "metadata": {},
   "outputs": [
    {
     "data": {
      "text/html": [
       "<div>\n",
       "<style scoped>\n",
       "    .dataframe tbody tr th:only-of-type {\n",
       "        vertical-align: middle;\n",
       "    }\n",
       "\n",
       "    .dataframe tbody tr th {\n",
       "        vertical-align: top;\n",
       "    }\n",
       "\n",
       "    .dataframe thead th {\n",
       "        text-align: right;\n",
       "    }\n",
       "</style>\n",
       "<table border=\"1\" class=\"dataframe\">\n",
       "  <thead>\n",
       "    <tr style=\"text-align: right;\">\n",
       "      <th></th>\n",
       "      <th>FullDate</th>\n",
       "      <th>Tmax</th>\n",
       "      <th>SysLoad</th>\n",
       "      <th>GasPrice</th>\n",
       "      <th>ElecPrice</th>\n",
       "    </tr>\n",
       "    <tr>\n",
       "      <th>FullDate</th>\n",
       "      <th></th>\n",
       "      <th></th>\n",
       "      <th></th>\n",
       "      <th></th>\n",
       "      <th></th>\n",
       "    </tr>\n",
       "  </thead>\n",
       "  <tbody>\n",
       "    <tr>\n",
       "      <th>2010-09-01 00:00:00</th>\n",
       "      <td>2010-09-01 00:00:00</td>\n",
       "      <td>15.8</td>\n",
       "      <td>1688.215</td>\n",
       "      <td>3.69</td>\n",
       "      <td>23.710</td>\n",
       "    </tr>\n",
       "    <tr>\n",
       "      <th>2010-09-01 01:00:00</th>\n",
       "      <td>2010-09-01 01:00:00</td>\n",
       "      <td>15.8</td>\n",
       "      <td>1669.195</td>\n",
       "      <td>3.69</td>\n",
       "      <td>22.635</td>\n",
       "    </tr>\n",
       "    <tr>\n",
       "      <th>2010-09-01 02:00:00</th>\n",
       "      <td>2010-09-01 02:00:00</td>\n",
       "      <td>15.8</td>\n",
       "      <td>1491.980</td>\n",
       "      <td>3.69</td>\n",
       "      <td>22.565</td>\n",
       "    </tr>\n",
       "    <tr>\n",
       "      <th>2010-09-01 03:00:00</th>\n",
       "      <td>2010-09-01 03:00:00</td>\n",
       "      <td>15.8</td>\n",
       "      <td>1330.760</td>\n",
       "      <td>3.69</td>\n",
       "      <td>18.910</td>\n",
       "    </tr>\n",
       "    <tr>\n",
       "      <th>2010-09-01 04:00:00</th>\n",
       "      <td>2010-09-01 04:00:00</td>\n",
       "      <td>15.8</td>\n",
       "      <td>1247.940</td>\n",
       "      <td>3.69</td>\n",
       "      <td>18.030</td>\n",
       "    </tr>\n",
       "  </tbody>\n",
       "</table>\n",
       "</div>"
      ],
      "text/plain": [
       "                               FullDate  Tmax   SysLoad  GasPrice  ElecPrice\n",
       "FullDate                                                                    \n",
       "2010-09-01 00:00:00 2010-09-01 00:00:00  15.8  1688.215      3.69     23.710\n",
       "2010-09-01 01:00:00 2010-09-01 01:00:00  15.8  1669.195      3.69     22.635\n",
       "2010-09-01 02:00:00 2010-09-01 02:00:00  15.8  1491.980      3.69     22.565\n",
       "2010-09-01 03:00:00 2010-09-01 03:00:00  15.8  1330.760      3.69     18.910\n",
       "2010-09-01 04:00:00 2010-09-01 04:00:00  15.8  1247.940      3.69     18.030"
      ]
     },
     "execution_count": 34,
     "metadata": {},
     "output_type": "execute_result"
    }
   ],
   "source": [
    "df.head()"
   ]
  },
  {
   "cell_type": "code",
   "execution_count": 6,
   "id": "85bca066-a7b6-46d5-821a-30c59dead777",
   "metadata": {},
   "outputs": [
    {
     "data": {
      "text/plain": [
       "FullDate     0\n",
       "Tmax         0\n",
       "SysLoad      0\n",
       "GasPrice     0\n",
       "ElecPrice    0\n",
       "dtype: int64"
      ]
     },
     "execution_count": 6,
     "metadata": {},
     "output_type": "execute_result"
    }
   ],
   "source": [
    "df.isnull().sum()"
   ]
  },
  {
   "cell_type": "code",
   "execution_count": 9,
   "id": "9441d7ae-a829-4f2b-93bd-0bb402fead33",
   "metadata": {},
   "outputs": [
    {
     "data": {
      "image/png": "[encoded data removed]",
      "text/plain": [
       "<Figure size 864x576 with 1 Axes>"
      ]
     },
     "metadata": {
      "needs_background": "light"
     },
     "output_type": "display_data"
    }
   ],
   "source": [
    "plt.figure(figsize = (12, 8))\n",
    "plt.plot(df[\"ElecPrice\"])\n",
    "plt.title(\"Plot of ElecPrice against time\");"
   ]
  },
  {
   "cell_type": "code",
   "execution_count": 10,
   "id": "2db634d1-6e00-41d6-ab8f-e273c0c999ee",
   "metadata": {},
   "outputs": [
    {
     "data": {
      "image/png": "[encoded data removed]",
      "text/plain": [
       "<Figure size 864x576 with 3 Axes>"
      ]
     },
     "metadata": {
      "needs_background": "light"
     },
     "output_type": "display_data"
    }
   ],
   "source": [
    "decomposition = sm.tsa.seasonal_decompose(df[\"ElecPrice\"], model=\"addictive\", period=30)\n",
    "trend = decomposition.trend\n",
    "residual = decomposition.resid\n",
    "seasonal = decomposition.seasonal\n",
    "\n",
    "plt.figure(figsize = (12, 8))\n",
    "plt.subplot(3, 1, 1)\n",
    "plt.plot(trend, label = \"Trend\")\n",
    "plt.legend(loc=\"upper left\")\n",
    "\n",
    "plt.subplot(3, 1, 2)\n",
    "plt.plot(seasonal, label = \"Seasonal\")\n",
    "plt.legend(loc=\"upper left\")\n",
    "\n",
    "plt.subplot(3, 1, 3)\n",
    "plt.plot(residual, label = \"Residuals\")\n",
    "plt.legend(loc=\"upper left\")\n",
    "\n",
    "plt.tight_layout()\n",
    "plt.show()"
   ]
  },
  {
   "cell_type": "code",
   "execution_count": 11,
   "id": "66839a50-de70-418f-b5b7-5b734dd69e29",
   "metadata": {},
   "outputs": [
    {
     "name": "stdout",
     "output_type": "stream",
     "text": [
      "ADF stats for Sysload is 2.4474966090684217e-30 and Gas Price is 2.333760534364015e-09\n"
     ]
    }
   ],
   "source": [
    "# Calculating the p-value for SysLoad and Gas Price\n",
    "result = adfuller(df[\"SysLoad\"])\n",
    "result1 = adfuller(df[\"GasPrice\"])\n",
    "print(f\"ADF stats for Sysload is {result[1]} and Gas Price is {result1[1]}\")"
   ]
  },
  {
   "cell_type": "code",
   "execution_count": 12,
   "id": "351b86a4-15c4-4088-8dc4-73f993708ecc",
   "metadata": {},
   "outputs": [
    {
     "name": "stdout",
     "output_type": "stream",
     "text": [
      "Critical value:\n",
      " 1% : -3.430421106837576\n",
      " 5% : -2.86157142807793\n",
      " 10% : -2.566786728071412\n"
     ]
    }
   ],
   "source": [
    "print(\"Critical value:\")\n",
    "for key, value in result1[4].items():\n",
    "    print(f' {key} : {value}')"
   ]
  },
  {
   "cell_type": "code",
   "execution_count": 13,
   "id": "e6b3ae8f-c2da-4442-ac88-a7af85a657f4",
   "metadata": {},
   "outputs": [
    {
     "name": "stdout",
     "output_type": "stream",
     "text": [
      "Critical value:\n",
      " 1% : -3.430421110703783\n",
      " 5% : -2.8615714297867108\n",
      " 10% : -2.56678672898094\n"
     ]
    }
   ],
   "source": [
    "# Calculating ADF stats, p-value, and critical values for ElecPrice\n",
    "result2 = adfuller(df[\"ElecPrice\"])\n",
    "#print(\"ADF stats:\", result[0])\n",
    "#print(\"p-value:\", result[1])\n",
    "print(\"Critical value:\")\n",
    "for key, value in result2[4].items():\n",
    "    print(f' {key} : {value}')"
   ]
  },
  {
   "cell_type": "code",
   "execution_count": 14,
   "id": "299c0174-c665-4fa1-9219-d68d436a05f6",
   "metadata": {},
   "outputs": [
    {
     "data": {
      "text/plain": [
       "((2757, 1), (1077, 1))"
      ]
     },
     "execution_count": 14,
     "metadata": {},
     "output_type": "execute_result"
    }
   ],
   "source": [
    "# Making a copy of df\n",
    "df_uni = df.copy()\n",
    "# Preparing dataset for univariate time series analysis\n",
    "df_uni = df_uni[[\"FullDate\", \"ElecPrice\"]]\n",
    "# Resampling dataset from hourly to daily\n",
    "df_uni = df_uni.resample(\"D\").sum()\n",
    "# Splitting dataset into train and test\n",
    "train = df_uni[:2757]\n",
    "test = df_uni[2757:]\n",
    "train.shape, test.shape"
   ]
  },
  {
   "cell_type": "code",
   "execution_count": 15,
   "id": "b47aff39-1f0f-4477-bad7-9ca19d868853",
   "metadata": {},
   "outputs": [
    {
     "data": {
      "text/html": [
       "<div>\n",
       "<style scoped>\n",
       "    .dataframe tbody tr th:only-of-type {\n",
       "        vertical-align: middle;\n",
       "    }\n",
       "\n",
       "    .dataframe tbody tr th {\n",
       "        vertical-align: top;\n",
       "    }\n",
       "\n",
       "    .dataframe thead th {\n",
       "        text-align: right;\n",
       "    }\n",
       "</style>\n",
       "<table border=\"1\" class=\"dataframe\">\n",
       "  <thead>\n",
       "    <tr style=\"text-align: right;\">\n",
       "      <th></th>\n",
       "      <th>ds</th>\n",
       "      <th>y</th>\n",
       "    </tr>\n",
       "    <tr>\n",
       "      <th>FullDate</th>\n",
       "      <th></th>\n",
       "      <th></th>\n",
       "    </tr>\n",
       "  </thead>\n",
       "  <tbody>\n",
       "    <tr>\n",
       "      <th>2010-09-01</th>\n",
       "      <td>2010-09-01</td>\n",
       "      <td>2751.700</td>\n",
       "    </tr>\n",
       "    <tr>\n",
       "      <th>2010-09-02</th>\n",
       "      <td>2010-09-02</td>\n",
       "      <td>570.810</td>\n",
       "    </tr>\n",
       "    <tr>\n",
       "      <th>2010-09-03</th>\n",
       "      <td>2010-09-03</td>\n",
       "      <td>504.975</td>\n",
       "    </tr>\n",
       "    <tr>\n",
       "      <th>2010-09-04</th>\n",
       "      <td>2010-09-04</td>\n",
       "      <td>502.275</td>\n",
       "    </tr>\n",
       "    <tr>\n",
       "      <th>2010-09-05</th>\n",
       "      <td>2010-09-05</td>\n",
       "      <td>500.555</td>\n",
       "    </tr>\n",
       "  </tbody>\n",
       "</table>\n",
       "</div>"
      ],
      "text/plain": [
       "                   ds         y\n",
       "FullDate                       \n",
       "2010-09-01 2010-09-01  2751.700\n",
       "2010-09-02 2010-09-02   570.810\n",
       "2010-09-03 2010-09-03   504.975\n",
       "2010-09-04 2010-09-04   502.275\n",
       "2010-09-05 2010-09-05   500.555"
      ]
     },
     "execution_count": 15,
     "metadata": {},
     "output_type": "execute_result"
    }
   ],
   "source": [
    "# Renaming dataset \n",
    "prophet_data = pd.DataFrame({\"ds\": train.index, \"y\": train[\"ElecPrice\"]})\n",
    "prophet_data.head()"
   ]
  },
  {
   "cell_type": "code",
   "execution_count": 16,
   "id": "6c892ca1-52c7-43d3-a906-01d84da1a04c",
   "metadata": {},
   "outputs": [
    {
     "name": "stderr",
     "output_type": "stream",
     "text": [
      "20:08:33 - cmdstanpy - INFO - Chain [1] start processing\n",
      "20:08:39 - cmdstanpy - INFO - Chain [1] done processing\n"
     ]
    },
    {
     "data": {
      "text/plain": [
       "2757    2528.359123\n",
       "2758    2681.646415\n",
       "2759    2780.638040\n",
       "2760    2572.764875\n",
       "2761    2247.980991\n",
       "Name: yhat, dtype: float64"
      ]
     },
     "execution_count": 16,
     "metadata": {},
     "output_type": "execute_result"
    }
   ],
   "source": [
    "# Building and fitting data to Prophet model\n",
    "model = Prophet()\n",
    "model.fit(prophet_data)\n",
    "#Creating a dataframe for predictions\n",
    "future = model.make_future_dataframe(periods = len(test))\n",
    "#Forecast future predictions\n",
    "forecast = model.predict(future)\n",
    "forecast_test = forecast['yhat'].tail(len(test))\n",
    "forecast_test.head()"
   ]
  },
  {
   "cell_type": "code",
   "execution_count": 17,
   "id": "2616ec54-5bd0-411d-aacd-645081b29ffa",
   "metadata": {},
   "outputs": [
    {
     "data": {
      "image/png": "[encoded data removed]",
      "text/plain": [
       "<Figure size 432x288 with 1 Axes>"
      ]
     },
     "metadata": {
      "needs_background": "light"
     },
     "output_type": "display_data"
    },
    {
     "name": "stdout",
     "output_type": "stream",
     "text": [
      "\n"
     ]
    },
    {
     "data": {
      "text/html": [
       "<div>\n",
       "<style scoped>\n",
       "    .dataframe tbody tr th:only-of-type {\n",
       "        vertical-align: middle;\n",
       "    }\n",
       "\n",
       "    .dataframe tbody tr th {\n",
       "        vertical-align: top;\n",
       "    }\n",
       "\n",
       "    .dataframe thead th {\n",
       "        text-align: right;\n",
       "    }\n",
       "</style>\n",
       "<table border=\"1\" class=\"dataframe\">\n",
       "  <thead>\n",
       "    <tr style=\"text-align: right;\">\n",
       "      <th></th>\n",
       "      <th>ds</th>\n",
       "      <th>trend</th>\n",
       "      <th>yhat_lower</th>\n",
       "      <th>yhat_upper</th>\n",
       "      <th>trend_lower</th>\n",
       "      <th>trend_upper</th>\n",
       "      <th>additive_terms</th>\n",
       "      <th>additive_terms_lower</th>\n",
       "      <th>additive_terms_upper</th>\n",
       "      <th>weekly</th>\n",
       "      <th>weekly_lower</th>\n",
       "      <th>weekly_upper</th>\n",
       "      <th>yearly</th>\n",
       "      <th>yearly_lower</th>\n",
       "      <th>yearly_upper</th>\n",
       "      <th>multiplicative_terms</th>\n",
       "      <th>multiplicative_terms_lower</th>\n",
       "      <th>multiplicative_terms_upper</th>\n",
       "      <th>yhat</th>\n",
       "    </tr>\n",
       "  </thead>\n",
       "  <tbody>\n",
       "    <tr>\n",
       "      <th>3599</th>\n",
       "      <td>2020-07-09</td>\n",
       "      <td>3352.180648</td>\n",
       "      <td>2009.373877</td>\n",
       "      <td>7485.426964</td>\n",
       "      <td>2122.594517</td>\n",
       "      <td>4527.423182</td>\n",
       "      <td>1349.443965</td>\n",
       "      <td>1349.443965</td>\n",
       "      <td>1349.443965</td>\n",
       "      <td>257.112222</td>\n",
       "      <td>257.112222</td>\n",
       "      <td>257.112222</td>\n",
       "      <td>1092.331743</td>\n",
       "      <td>1092.331743</td>\n",
       "      <td>1092.331743</td>\n",
       "      <td>0.0</td>\n",
       "      <td>0.0</td>\n",
       "      <td>0.0</td>\n",
       "      <td>4701.624613</td>\n",
       "    </tr>\n",
       "  </tbody>\n",
       "</table>\n",
       "</div>"
      ],
      "text/plain": [
       "             ds        trend   yhat_lower   yhat_upper  trend_lower  \\\n",
       "3599 2020-07-09  3352.180648  2009.373877  7485.426964  2122.594517   \n",
       "\n",
       "      trend_upper  additive_terms  additive_terms_lower  additive_terms_upper  \\\n",
       "3599  4527.423182     1349.443965           1349.443965           1349.443965   \n",
       "\n",
       "          weekly  weekly_lower  weekly_upper       yearly  yearly_lower  \\\n",
       "3599  257.112222    257.112222    257.112222  1092.331743   1092.331743   \n",
       "\n",
       "      yearly_upper  multiplicative_terms  multiplicative_terms_lower  \\\n",
       "3599   1092.331743                   0.0                         0.0   \n",
       "\n",
       "      multiplicative_terms_upper         yhat  \n",
       "3599                         0.0  4701.624613  "
      ]
     },
     "execution_count": 17,
     "metadata": {},
     "output_type": "execute_result"
    }
   ],
   "source": [
    "# plot to show the month of the yearly seasonality that has the highest value?\n",
    "plt.plot(forecast[\"yhat\"])\n",
    "plt.show();\n",
    "print()\n",
    "# Getting the value\n",
    "forecast[forecast[\"yhat\"] == forecast[\"yhat\"].max()]"
   ]
  },
  {
   "cell_type": "code",
   "execution_count": 18,
   "id": "71e4b39f-a358-4089-b74a-bcdbb695d47b",
   "metadata": {},
   "outputs": [
    {
     "name": "stdout",
     "output_type": "stream",
     "text": [
      "MAPE: 5.444572645744382\n",
      "RMSE: 3207.7722194126754\n"
     ]
    }
   ],
   "source": [
    "# Importing libraries to evaluate performance\n",
    "from sklearn.metrics import mean_absolute_error\n",
    "from sklearn.metrics import mean_absolute_percentage_error\n",
    "from sklearn.metrics import mean_squared_error\n",
    "\n",
    "#Mean absolute percentage error\n",
    "mape = mean_absolute_percentage_error(test[\"ElecPrice\"], forecast_test)\n",
    "print(f\"MAPE: {mape}\")\n",
    "\n",
    "# mean square error\n",
    "mse = mean_squared_error(test[\"ElecPrice\"], forecast_test)\n",
    "\n",
    "#Root mean square error\n",
    "rmse = np.sqrt(mse)\n",
    "print(f\"RMSE: {rmse}\")"
   ]
  },
  {
   "cell_type": "markdown",
   "id": "66eb5256-a7d6-4279-a463-2b14c34e1bf4",
   "metadata": {},
   "source": [
    "#### Multivariate time series forecast"
   ]
  },
  {
   "cell_type": "code",
   "execution_count": 44,
   "id": "903abc27-88ef-496f-aa3a-cd45d94d0a5e",
   "metadata": {},
   "outputs": [
    {
     "data": {
      "text/html": [
       "<div>\n",
       "<style scoped>\n",
       "    .dataframe tbody tr th:only-of-type {\n",
       "        vertical-align: middle;\n",
       "    }\n",
       "\n",
       "    .dataframe tbody tr th {\n",
       "        vertical-align: top;\n",
       "    }\n",
       "\n",
       "    .dataframe thead th {\n",
       "        text-align: right;\n",
       "    }\n",
       "</style>\n",
       "<table border=\"1\" class=\"dataframe\">\n",
       "  <thead>\n",
       "    <tr style=\"text-align: right;\">\n",
       "      <th></th>\n",
       "      <th>Tmax</th>\n",
       "      <th>SysLoad</th>\n",
       "      <th>GasPrice</th>\n",
       "      <th>y</th>\n",
       "    </tr>\n",
       "    <tr>\n",
       "      <th>FullDate</th>\n",
       "      <th></th>\n",
       "      <th></th>\n",
       "      <th></th>\n",
       "      <th></th>\n",
       "    </tr>\n",
       "  </thead>\n",
       "  <tbody>\n",
       "    <tr>\n",
       "      <th>2010-09-01</th>\n",
       "      <td>379.2</td>\n",
       "      <td>41565.380</td>\n",
       "      <td>88.56</td>\n",
       "      <td>2751.700</td>\n",
       "    </tr>\n",
       "    <tr>\n",
       "      <th>2010-09-02</th>\n",
       "      <td>369.6</td>\n",
       "      <td>38898.990</td>\n",
       "      <td>88.56</td>\n",
       "      <td>570.810</td>\n",
       "    </tr>\n",
       "    <tr>\n",
       "      <th>2010-09-03</th>\n",
       "      <td>439.2</td>\n",
       "      <td>41665.760</td>\n",
       "      <td>106.80</td>\n",
       "      <td>504.975</td>\n",
       "    </tr>\n",
       "    <tr>\n",
       "      <th>2010-09-04</th>\n",
       "      <td>328.8</td>\n",
       "      <td>35638.085</td>\n",
       "      <td>81.36</td>\n",
       "      <td>502.275</td>\n",
       "    </tr>\n",
       "    <tr>\n",
       "      <th>2010-09-05</th>\n",
       "      <td>357.6</td>\n",
       "      <td>35611.410</td>\n",
       "      <td>106.80</td>\n",
       "      <td>500.555</td>\n",
       "    </tr>\n",
       "  </tbody>\n",
       "</table>\n",
       "</div>"
      ],
      "text/plain": [
       "             Tmax    SysLoad  GasPrice         y\n",
       "FullDate                                        \n",
       "2010-09-01  379.2  41565.380     88.56  2751.700\n",
       "2010-09-02  369.6  38898.990     88.56   570.810\n",
       "2010-09-03  439.2  41665.760    106.80   504.975\n",
       "2010-09-04  328.8  35638.085     81.36   502.275\n",
       "2010-09-05  357.6  35611.410    106.80   500.555"
      ]
     },
     "execution_count": 44,
     "metadata": {},
     "output_type": "execute_result"
    }
   ],
   "source": [
    "df.head()"
   ]
  },
  {
   "cell_type": "code",
   "execution_count": 46,
   "id": "76cbe9a0-d4b8-40a2-8359-42596b1f28a3",
   "metadata": {},
   "outputs": [
    {
     "data": {
      "text/html": [
       "<div>\n",
       "<style scoped>\n",
       "    .dataframe tbody tr th:only-of-type {\n",
       "        vertical-align: middle;\n",
       "    }\n",
       "\n",
       "    .dataframe tbody tr th {\n",
       "        vertical-align: top;\n",
       "    }\n",
       "\n",
       "    .dataframe thead th {\n",
       "        text-align: right;\n",
       "    }\n",
       "</style>\n",
       "<table border=\"1\" class=\"dataframe\">\n",
       "  <thead>\n",
       "    <tr style=\"text-align: right;\">\n",
       "      <th></th>\n",
       "      <th>ds</th>\n",
       "      <th>Tmax</th>\n",
       "      <th>SysLoad</th>\n",
       "      <th>GasPrice</th>\n",
       "      <th>ElecPrice</th>\n",
       "    </tr>\n",
       "    <tr>\n",
       "      <th>FullDate</th>\n",
       "      <th></th>\n",
       "      <th></th>\n",
       "      <th></th>\n",
       "      <th></th>\n",
       "      <th></th>\n",
       "    </tr>\n",
       "  </thead>\n",
       "  <tbody>\n",
       "    <tr>\n",
       "      <th>2010-09-01</th>\n",
       "      <td>2010-09-01</td>\n",
       "      <td>379.2</td>\n",
       "      <td>41565.38</td>\n",
       "      <td>88.56</td>\n",
       "      <td>2751.700</td>\n",
       "    </tr>\n",
       "    <tr>\n",
       "      <th>2010-09-02</th>\n",
       "      <td>2010-09-02</td>\n",
       "      <td>369.6</td>\n",
       "      <td>38898.99</td>\n",
       "      <td>88.56</td>\n",
       "      <td>570.810</td>\n",
       "    </tr>\n",
       "    <tr>\n",
       "      <th>2010-09-03</th>\n",
       "      <td>2010-09-03</td>\n",
       "      <td>439.2</td>\n",
       "      <td>41665.76</td>\n",
       "      <td>106.80</td>\n",
       "      <td>504.975</td>\n",
       "    </tr>\n",
       "  </tbody>\n",
       "</table>\n",
       "</div>"
      ],
      "text/plain": [
       "                   ds   Tmax   SysLoad  GasPrice  ElecPrice\n",
       "FullDate                                                   \n",
       "2010-09-01 2010-09-01  379.2  41565.38     88.56   2751.700\n",
       "2010-09-02 2010-09-02  369.6  38898.99     88.56    570.810\n",
       "2010-09-03 2010-09-03  439.2  41665.76    106.80    504.975"
      ]
     },
     "execution_count": 46,
     "metadata": {},
     "output_type": "execute_result"
    }
   ],
   "source": [
    "# Resampling multivariate time series \n",
    "df = df.resample(\"D\").sum()\n",
    "df = pd.DataFrame({'ds': df.index, 'Tmax': df['Tmax'], 'SysLoad': df['SysLoad'], 'GasPrice': df['GasPrice'], \"ElecPrice\": df['y']})\n",
    "# Splitting dataset into train and test\n",
    "train = df[:2757]\n",
    "test = df[2757:]\n",
    "\n",
    "df.head(3)"
   ]
  },
  {
   "cell_type": "code",
   "execution_count": 47,
   "id": "3984eb8a-baf0-4701-99ee-25b9f335e25e",
   "metadata": {},
   "outputs": [
    {
     "data": {
      "text/html": [
       "<div>\n",
       "<style scoped>\n",
       "    .dataframe tbody tr th:only-of-type {\n",
       "        vertical-align: middle;\n",
       "    }\n",
       "\n",
       "    .dataframe tbody tr th {\n",
       "        vertical-align: top;\n",
       "    }\n",
       "\n",
       "    .dataframe thead th {\n",
       "        text-align: right;\n",
       "    }\n",
       "</style>\n",
       "<table border=\"1\" class=\"dataframe\">\n",
       "  <thead>\n",
       "    <tr style=\"text-align: right;\">\n",
       "      <th></th>\n",
       "      <th>ds</th>\n",
       "      <th>Tmax</th>\n",
       "      <th>SysLoad</th>\n",
       "      <th>GasPrice</th>\n",
       "      <th>y</th>\n",
       "    </tr>\n",
       "    <tr>\n",
       "      <th>FullDate</th>\n",
       "      <th></th>\n",
       "      <th></th>\n",
       "      <th></th>\n",
       "      <th></th>\n",
       "      <th></th>\n",
       "    </tr>\n",
       "  </thead>\n",
       "  <tbody>\n",
       "    <tr>\n",
       "      <th>2010-09-01</th>\n",
       "      <td>2010-09-01</td>\n",
       "      <td>379.2</td>\n",
       "      <td>41565.38</td>\n",
       "      <td>88.56</td>\n",
       "      <td>2751.70</td>\n",
       "    </tr>\n",
       "    <tr>\n",
       "      <th>2010-09-02</th>\n",
       "      <td>2010-09-02</td>\n",
       "      <td>369.6</td>\n",
       "      <td>38898.99</td>\n",
       "      <td>88.56</td>\n",
       "      <td>570.81</td>\n",
       "    </tr>\n",
       "  </tbody>\n",
       "</table>\n",
       "</div>"
      ],
      "text/plain": [
       "                   ds   Tmax   SysLoad  GasPrice        y\n",
       "FullDate                                                 \n",
       "2010-09-01 2010-09-01  379.2  41565.38     88.56  2751.70\n",
       "2010-09-02 2010-09-02  369.6  38898.99     88.56   570.81"
      ]
     },
     "execution_count": 47,
     "metadata": {},
     "output_type": "execute_result"
    }
   ],
   "source": [
    "df.rename(columns = {\"ElecPrice\": \"y\"}, inplace=True)\n",
    "df.head(2)"
   ]
  },
  {
   "cell_type": "code",
   "execution_count": 49,
   "id": "e26767f3-0754-499c-8978-6398cce77664",
   "metadata": {},
   "outputs": [
    {
     "name": "stderr",
     "output_type": "stream",
     "text": [
      "20:50:04 - cmdstanpy - INFO - Chain [1] start processing\n",
      "20:50:05 - cmdstanpy - INFO - Chain [1] done processing\n",
      "20:50:05 - cmdstanpy - ERROR - Chain [1] error: error during processing Operation not permitted\n",
      "Optimization terminated abnormally. Falling back to Newton.\n",
      "20:50:07 - cmdstanpy - INFO - Chain [1] start processing\n",
      "\n",
      "KeyboardInterrupt\n",
      "\n"
     ]
    }
   ],
   "source": [
    "#Build and fit model for multivariate time series\n",
    "model = Prophet(interval_width=0.9)\n",
    "model.add_regressor(\"Tmax\", standardize=False)\n",
    "model.add_regressor(\"SysLoad\", standardize=False)\n",
    "model.add_regressor(\"GasPrice\", standardize=False)\n",
    "model.fit(df)\n",
    "\n",
    "#Creting a dataframe for predictions\n",
    "future_mul = model.make_future_dataframe(periods = len(test))\n",
    "\n",
    "#Forecast future predictions\n",
    "forecast_mul = model.predict(future_mul)\n",
    "\n",
    "forecast_test_mul = forecast_mul['yhat'].tail(len(test_mul))"
   ]
  },
  {
   "cell_type": "code",
   "execution_count": null,
   "id": "3bb067e2-fe3d-475d-bb0a-a2ccb81068b3",
   "metadata": {},
   "outputs": [],
   "source": [
    "forecast_test_mul.head()"
   ]
  },
  {
   "cell_type": "code",
   "execution_count": null,
   "id": "83ebc250-7fae-46ed-a784-ab3d25dbeda2",
   "metadata": {},
   "outputs": [],
   "source": [
    "forecast_testte error\n",
    "mae_mul = mean_absolute_error(test_mul[\"ElecPrice\"], forecast_test_mul)\n",
    "print(f\"MAE: {mae_mul}\")\n",
    "\n",
    "#Mean absolute percentage error\n",
    "mape_mul = mean_absolute_percentage_error(test_mul[\"ElecPrice\"], forecast_test_mul)\n",
    "print(f\"MAPE: {mape_mul}\")\n",
    "\n",
    "# mean square error\n",
    "mse_mul = mean_squared_error(test_mul[\"ElecPrice\"], forecast_test_mul)\n",
    "print(f\"MSE: {mse_mul}\")\n",
    "\n",
    "#Root mean square error\n",
    "rmse_mul = np.sqrt(mse_mul)\n",
    "print(f\"RMSE: {rmse_mul}\")"
   ]
  },
  {
   "cell_type": "code",
   "execution_count": null,
   "id": "d4b6a91f-1d41-42ac-b06f-a415e14cf0f8",
   "metadata": {},
   "outputs": [],
   "source": [
    "forecast_mul.head()"
   ]
  },
  {
   "cell_type": "code",
   "execution_count": null,
   "id": "f5c9b816-37f0-4d8b-b5b2-195ec53b422a",
   "metadata": {},
   "outputs": [],
   "source": [
    "forecast_mul[forecast_mul[\"yhat\"] == forecast_mul[\"yhat\"].max()]"
   ]
  },
  {
   "cell_type": "code",
   "execution_count": null,
   "id": "cb540315-245d-49f7-a5f4-bf31906d730c",
   "metadata": {},
   "outputs": [],
   "source": [
    "forecast_mul[\"yhat\"].max()"
   ]
  },
  {
   "cell_type": "code",
   "execution_count": null,
   "id": "dc889c75-d9f9-45fc-8393-17be9292e0a3",
   "metadata": {},
   "outputs": [],
   "source": [
    "prophet_data_mul = pd.DataFrame({\"ds\": train_mul.index, \"add1\": train_mul[\"SysLoad\"], \"add3\": train_mul[\"GasPrice\"], \"y\": train_mul[\"ElecPrice\"]})\n",
    "prophet_data_mul\n",
    "\n",
    "model = Prophet()\n",
    "model.fit(prophet_data_mul)\n",
    "\n",
    "#Creting a dataframe for predictions\n",
    "future_mul = model.make_future_dataframe(periods = len(test_mul))\n",
    "\n",
    "#Forecast future predictions\n",
    "forecast_mul = model.predict(future_mul)\n",
    "\n",
    "forecast_test_mul = forecast_mul['yhat'].tail(len(test_mul))\n",
    "\n",
    "mape_mul = mean_absolute_percentage_error(test_mul[\"ElecPrice\"], forecast_test_mul)\n",
    "print(f\"MAPE: {mape_mul}\")\n"
   ]
  },
  {
   "cell_type": "code",
   "execution_count": null,
   "id": "afab0150-270b-4a3a-9dc6-94f812507feb",
   "metadata": {},
   "outputs": [],
   "source": []
  }
 ],
 "metadata": {
  "kernelspec": {
   "display_name": "Python 3 (ipykernel)",
   "language": "python",
   "name": "python3"
  },
  "language_info": {
   "codemirror_mode": {
    "name": "ipython",
    "version": 3
   },
   "file_extension": ".py",
   "mimetype": "text/x-python",
   "name": "python",
   "nbconvert_exporter": "python",
   "pygments_lexer": "ipython3",
   "version": "3.9.12"
  }
 },
 "nbformat": 4,
 "nbformat_minor": 5
}
